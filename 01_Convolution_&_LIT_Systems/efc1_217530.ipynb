{
 "cells": [
  {
   "cell_type": "markdown",
   "metadata": {},
   "source": [
    "## Exercício de Fixação de Conceitos (EFC) 1 – Sistemas LIT e Convolução\n",
    "## Gustavo Nascimento Soares - 217530\n",
    "\n",
    "### Parte Teórica\n",
    "### a)\n",
    "----\n",
    "Seja $x[n] = h[n]*s[n] = \\sum_{k = -\\infty}^{\\infty}{s[k] \\cdot h[n-k]}$, é possível concluir que $x[n] \\neq 0 \\iff s[k] \\neq 0 \\wedge h[n-k] \\neq 0$. Ou seja, quando houver interseção não nula entre essas duas funções.\n",
    "\n",
    "![alt text](a.png)\n",
    "\n",
    "Observando os valores de $n$ para o qual existe interseção não nula, percebe-se que $x[n] \\neq 0 \\iff 0 \\leq n \\lt K + D - 1$. Logo:\n",
    "\n",
    "$ P = K + D - 1 $\n",
    "### b)\n",
    "----\n",
    "Seja $h_{i,j}\\ (0 \\lt i \\leq P,\\ 0 \\lt j \\leq K)$ o elemento da $i$-ésima linha e da $j$-ésima coluna de $\\textbf{H}$ e $\\textbf{s}$ a representação vetorial de $s[n]$. Se:\n",
    "\n",
    "$\n",
    "    h_{i,j} = \n",
    "\\begin{cases}\n",
    "    h[i - j],& \\text{se } 0 \\leq i - j \\lt D; \\\\\n",
    "    0,              & \\text{caso contrário}.\n",
    "\\end{cases}\n",
    "$\n",
    "\n",
    "e\n",
    "\n",
    "$\\textbf{s} = \\Big{[}s[0]\\ s[1]\\ ...\\ s[K-1]\\Big{]}^T$\n",
    "\n",
    "Então $ \\textbf{Hs} = \\textbf{x} = \\Big{[}\\sum_{k = -\\infty}^{\\infty}{s[k] \\cdot h[-k]}\\ \\ \\sum_{k = -\\infty}^{\\infty}{s[k] \\cdot h[1-k]}\\ \\ ...\\ \\ \\sum_{k = -\\infty}^{\\infty}{s[k] \\cdot h[P-1-k]}\\Big{]}^T = \\Big{[}x[0]\\ x[1]\\ ...\\ x[P-1]\\Big{]}^T$.\n",
    "\n",
    "### Parte Computacional"
   ]
  },
  {
   "cell_type": "code",
   "execution_count": 1,
   "metadata": {},
   "outputs": [],
   "source": [
    "# Bibliotecas utilizadas\n",
    "import numpy as np\n",
    "import matplotlib.pyplot as plt"
   ]
  },
  {
   "cell_type": "code",
   "execution_count": 2,
   "metadata": {},
   "outputs": [],
   "source": [
    "# Constantes do problema\n",
    "K = 100\n",
    "D = 2\n",
    "P = K + D - 1\n",
    "\n",
    "# Obtenção da matriz de convolução\n",
    "def get_convolution_matrix(h, x):\n",
    "    n_h = h.size\n",
    "    n_x = x.size\n",
    "    n_y = n_x + n_h - 1\n",
    "    H = np.zeros((n_y, n_x))\n",
    "    for i in range(n_x):\n",
    "        H[:, i][i:i + n_h] = h\n",
    "    return H"
   ]
  },
  {
   "cell_type": "markdown",
   "metadata": {},
   "source": [
    "### c)\n",
    "----\n",
    "$ h[n] = \\delta [n] - 0.5 \\delta [n - 1] $\n",
    "\n",
    "$ h[n] = \\begin{cases}    \\delta [0], & \\text{se } n = 0; \\\\    - 0.5 \\delta [0], & \\text{se } n = 1; \\\\    0, & \\text{caso contrário.} \\end{cases} $"
   ]
  },
  {
   "cell_type": "code",
   "execution_count": 3,
   "metadata": {},
   "outputs": [
    {
     "data": {
      "text/plain": [
       "array([ 1. , -0.5])"
      ]
     },
     "execution_count": 3,
     "metadata": {},
     "output_type": "execute_result"
    }
   ],
   "source": [
    "delta = np.array([1, 0])\n",
    "h = delta - .5*np.roll(delta, 1)\n",
    "h"
   ]
  },
  {
   "cell_type": "markdown",
   "metadata": {},
   "source": [
    "### d)\n",
    "----\n",
    "$ \\delta [n] = h[n] * w[n] $\n",
    "* $ n \\lt 0: w[n] = 0; $\n",
    "* $ n = 0: w[0] - 0.5w[-1] = 1 \\Longrightarrow w[0] = 1; $\n",
    "* $ n \\gt 0: w[n] - 0.5w[n-1] = 0 \\Longrightarrow w[n] = 0.5^{n}. $\n",
    "\n",
    "### e)\n",
    "----"
   ]
  },
  {
   "cell_type": "code",
   "execution_count": 4,
   "metadata": {},
   "outputs": [],
   "source": [
    "w = (\n",
    "    np.array([.5**i for i in range(5)]),\n",
    "    np.array([1, 1.5, 0.7, -0.2, 0.3]),\n",
    ")\n",
    "\n",
    "g = tuple(get_convolution_matrix(w[i], h)@h for i in range(2))"
   ]
  },
  {
   "cell_type": "code",
   "execution_count": 5,
   "metadata": {},
   "outputs": [],
   "source": [
    "np.set_printoptions(formatter={'float': '{: 0.5f}'.format})\n",
    "def print_latex(text):\n",
    "    ax = plt.axes([0]*4)\n",
    "    ax.set_xticks([])\n",
    "    ax.set_yticks([])\n",
    "    ax.axis('off')\n",
    "    plt.text(0, 0,'%s' %text, size=12, color=\"k\")\n",
    "    plt.show()"
   ]
  },
  {
   "cell_type": "code",
   "execution_count": 6,
   "metadata": {},
   "outputs": [
    {
     "data": {
      "image/png": "[encoded data removed]",
      "text/plain": [
       "<Figure size 432x288 with 1 Axes>"
      ]
     },
     "metadata": {},
     "output_type": "display_data"
    },
    {
     "data": {
      "image/png": "[encoded data removed]",
      "text/plain": [
       "<Figure size 432x288 with 1 Axes>"
      ]
     },
     "metadata": {},
     "output_type": "display_data"
    },
    {
     "data": {
      "image/png": "[encoded data removed]",
      "text/plain": [
       "<Figure size 432x288 with 1 Axes>"
      ]
     },
     "metadata": {},
     "output_type": "display_data"
    },
    {
     "data": {
      "image/png": "[encoded data removed]",
      "text/plain": [
       "<Figure size 432x288 with 1 Axes>"
      ]
     },
     "metadata": {},
     "output_type": "display_data"
    }
   ],
   "source": [
    "delta = np.zeros(6)\n",
    "delta[0] = 1\n",
    "for i in range(2):\n",
    "    print_latex(r'$g_{0}$ = {1}'.format(i + 1, g[i]))\n",
    "for i in range(2):\n",
    "    print_latex(r'$||g_{0} - \\delta||$ = {1:.5f}'.format(i + 1, np.linalg.norm(g[i] - delta)))"
   ]
  },
  {
   "cell_type": "markdown",
   "metadata": {},
   "source": [
    "$w_1$ é bem melhor porque $g_1$ está mais próximo de $\\delta$ do que $g_2$.\n",
    "\n",
    "### f)\n",
    "----"
   ]
  },
  {
   "cell_type": "code",
   "execution_count": 7,
   "metadata": {},
   "outputs": [],
   "source": [
    "# Plot arguments\n",
    "plt_args_in = {\n",
    "    'basefmt': 'k',\n",
    "    'linefmt': 'grey',\n",
    "    'markerfmt': 'o',\n",
    "    'use_line_collection': True,\n",
    "}\n",
    "plt_args_out = {\n",
    "    'basefmt': 'k',\n",
    "    'linefmt': 'grey',\n",
    "    'markerfmt': 'D',\n",
    "    'use_line_collection': True,\n",
    "}\n",
    "# Plot decoration\n",
    "def set_markerlinecolors(markerline, facecolor, edgecolor):\n",
    "    markerline.set_markerfacecolor(facecolor)\n",
    "    markerline.set_markeredgecolor(edgecolor)\n",
    "def set_axstyle(ax):\n",
    "    ax.set_xlabel(r'$n$', fontsize=14)\n",
    "    ax.axhline(y=0, c='k', linewidth=.6)\n",
    "    ax.spines['top'].set_visible(False)\n",
    "    ax.spines['right'].set_visible(False)\n",
    "    ax.legend(loc=1, fontsize=14)"
   ]
  },
  {
   "cell_type": "code",
   "execution_count": 8,
   "metadata": {},
   "outputs": [
    {
     "data": {
      "image/png": "[encoded data removed]",
      "text/plain": [
       "<Figure size 720x288 with 1 Axes>"
      ]
     },
     "metadata": {
      "needs_background": "light"
     },
     "output_type": "display_data"
    }
   ],
   "source": [
    "s = np.sign(np.random.randn(K))\n",
    "x = get_convolution_matrix(h, s)@s\n",
    "\n",
    "\n",
    "fig, ax = plt.subplots(figsize=(10, 4))\n",
    "fig.suptitle(r'Comparação entre $s[n]$ e $x[n]$', fontsize=20)\n",
    "\n",
    "set_markerlinecolors(ax.stem(s, **plt_args_in, label=r'$s[n]$')[0], 'aqua', 'none')\n",
    "set_markerlinecolors(ax.stem(x, **plt_args_out, label=r'$x[n]$')[0], 'none', 'red')\n",
    "\n",
    "set_axstyle(ax)\n",
    "\n",
    "plt.show()"
   ]
  },
  {
   "cell_type": "markdown",
   "metadata": {},
   "source": [
    "### g)\n",
    "----"
   ]
  },
  {
   "cell_type": "code",
   "execution_count": 9,
   "metadata": {
    "scrolled": false
   },
   "outputs": [
    {
     "data": {
      "image/png": "[encoded data removed]",
      "text/plain": [
       "<Figure size 1584x288 with 2 Axes>"
      ]
     },
     "metadata": {
      "needs_background": "light"
     },
     "output_type": "display_data"
    }
   ],
   "source": [
    "y = tuple(get_convolution_matrix(w[i], x)@x for i in range(2))\n",
    "\n",
    "\n",
    "fig, axs = plt.subplots(1, 2, sharey=True, figsize=(22, 4), gridspec_kw={'wspace': 0})\n",
    "fig.suptitle(r'Comparação entre os filtros $w_1$ e $w_2$', fontsize=20)\n",
    "\n",
    "for i in range(2):\n",
    "    set_markerlinecolors(axs[i].stem(s, **plt_args_in, label=r'$s[n]$')[0], 'aqua', 'none')\n",
    "    set_markerlinecolors(axs[i].stem(y[i], **plt_args_out, label=r'$y_{}[n]$'.format(i + 1))[0], 'none', 'red')\n",
    "\n",
    "for ax in axs:\n",
    "    set_axstyle(ax)\n",
    "for ax in axs.flat:\n",
    "    ax.label_outer()\n",
    "\n",
    "plt.show()"
   ]
  },
  {
   "cell_type": "markdown",
   "metadata": {},
   "source": [
    "$y_1[n]$ está mais próxima do sinal original $s[n]$."
   ]
  }
 ],
 "metadata": {
  "file_extension": ".py",
  "kernelspec": {
   "display_name": "Python 3.7.4 64-bit",
   "language": "python",
   "name": "python37464bit68f48fd7de604f71b3df69a5d15a0690"
  },
  "language_info": {
   "codemirror_mode": {
    "name": "ipython",
    "version": 3
   },
   "file_extension": ".py",
   "mimetype": "text/x-python",
   "name": "python",
   "nbconvert_exporter": "python",
   "pygments_lexer": "ipython3",
   "version": "3.7.6"
  },
  "mimetype": "text/x-python",
  "name": "python",
  "npconvert_exporter": "python",
  "pygments_lexer": "ipython3",
  "version": 3
 },
 "nbformat": 4,
 "nbformat_minor": 2
}
